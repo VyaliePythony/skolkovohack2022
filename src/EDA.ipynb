{
 "cells": [
  {
   "cell_type": "code",
   "execution_count": 40,
   "id": "b62cee68-d2d2-4e50-8cbe-886d570c3ff1",
   "metadata": {},
   "outputs": [],
   "source": [
    "import numpy as np\n",
    "import pandas as pd\n",
    "import matplotlib.pyplot as plt\n",
    "import os"
   ]
  },
  {
   "cell_type": "code",
   "execution_count": 41,
   "id": "3006d92f-ec78-4278-a01f-fa594c701fc1",
   "metadata": {},
   "outputs": [],
   "source": [
    "data_path = 'C:\\\\Users\\\\zer0nu11\\\\Documents\\\\grad\\\\skolkovohack2022\\\\data\\\\for_hack_2022\\\\'\n",
    "test_path = 'C:\\\\Users\\\\zer0nu11\\\\Documents\\\\grad\\\\skolkovohack2022\\\\data\\\\for_hack_2022\\\\test\\\\'"
   ]
  },
  {
   "cell_type": "code",
   "execution_count": 42,
   "id": "d0c4b8f3-dfb1-47b2-b1ec-5559c5a98c25",
   "metadata": {},
   "outputs": [],
   "source": [
    "data_jobs = pd.read_csv(data_path+'data_jobs.csv',sep=';')\n",
    "data_candidates_workplaces = pd.read_csv(data_path+'data_candidates_work_places.csv',sep=';')\n",
    "data_candidates_education = pd.read_csv(data_path+'data_candidates_education.csv',sep=';')\n",
    "data_candidates = pd.read_csv(data_path+'data_candidates.csv',sep=';')\n",
    "\n",
    "test_jobs = pd.read_csv(test_path+'test_jobs.csv',sep=';')\n",
    "test_candidates_workplaces = pd.read_csv(test_path+'test_candidates_workplaces.csv',sep=';')\n",
    "test_candidates_education = pd.read_csv(test_path+'test_candidates_education.csv',sep=';')\n",
    "test_candidates = pd.read_csv(test_path+'test_candidates.csv',sep=';')"
   ]
  },
  {
   "cell_type": "code",
   "execution_count": 46,
   "id": "5942b9b7",
   "metadata": {},
   "outputs": [],
   "source": [
    "# assert test_jobs.shape[1] == data_jobs.shape[1] # test_jobs.shape БОЛЬШЕ НА 3 ФИЧИ!\n",
    "# assert test_candidates.shape[1] == data_candidates.shape[1] # test_candidates.shape МЕНЬШЕ НА 4 ФИЧИ!\n",
    "assert test_candidates_education.shape[1] == data_candidates_education.shape[1]\n",
    "assert test_candidates_workplaces.shape[1] == data_candidates_workplaces.shape[1]"
   ]
  },
  {
   "cell_type": "code",
   "execution_count": null,
   "id": "4aaa78e7",
   "metadata": {},
   "outputs": [],
   "source": []
  }
 ],
 "metadata": {
  "kernelspec": {
   "display_name": "Python 3.10.5 64-bit",
   "language": "python",
   "name": "python3"
  },
  "language_info": {
   "codemirror_mode": {
    "name": "ipython",
    "version": 3
   },
   "file_extension": ".py",
   "mimetype": "text/x-python",
   "name": "python",
   "nbconvert_exporter": "python",
   "pygments_lexer": "ipython3",
   "version": "3.10.5"
  },
  "vscode": {
   "interpreter": {
    "hash": "42b432d30cc62254b91ead63fa829a83a2bcfd2e7275027632e6c65a5e1b6f06"
   }
  }
 },
 "nbformat": 4,
 "nbformat_minor": 5
}
