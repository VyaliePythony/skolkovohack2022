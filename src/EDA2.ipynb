{
 "cells": [
  {
   "cell_type": "code",
   "execution_count": 1,
   "metadata": {},
   "outputs": [],
   "source": [
    "import numpy as np\n",
    "import pandas as pd\n",
    "import matplotlib.pyplot as plt"
   ]
  },
  {
   "cell_type": "code",
   "execution_count": 2,
   "metadata": {},
   "outputs": [
    {
     "name": "stderr",
     "output_type": "stream",
     "text": [
      "c:\\Users\\zer0nu11\\AppData\\Local\\Programs\\Python\\Python310\\lib\\site-packages\\tqdm\\auto.py:22: TqdmWarning: IProgress not found. Please update jupyter and ipywidgets. See https://ipywidgets.readthedocs.io/en/stable/user_install.html\n",
      "  from .autonotebook import tqdm as notebook_tqdm\n",
      "Some weights of the model checkpoint at cointegrated/rubert-tiny were not used when initializing BertModel: ['cls.predictions.decoder.weight', 'cls.predictions.transform.LayerNorm.bias', 'cls.predictions.transform.dense.weight', 'cls.predictions.transform.dense.bias', 'cls.predictions.bias', 'cls.seq_relationship.weight', 'cls.predictions.transform.LayerNorm.weight', 'cls.seq_relationship.bias', 'cls.predictions.decoder.bias']\n",
      "- This IS expected if you are initializing BertModel from the checkpoint of a model trained on another task or with another architecture (e.g. initializing a BertForSequenceClassification model from a BertForPreTraining model).\n",
      "- This IS NOT expected if you are initializing BertModel from the checkpoint of a model that you expect to be exactly identical (initializing a BertForSequenceClassification model from a BertForSequenceClassification model).\n"
     ]
    }
   ],
   "source": [
    "import data"
   ]
  },
  {
   "cell_type": "code",
   "execution_count": 3,
   "metadata": {},
   "outputs": [],
   "source": [
    "data_path = 'C:\\\\Users\\\\zer0nu11\\\\Documents\\\\grad\\\\skolkovohack2022\\\\data\\\\for_hack_2022\\\\'\n",
    "data.set_path(data_path)"
   ]
  },
  {
   "cell_type": "code",
   "execution_count": 4,
   "metadata": {},
   "outputs": [
    {
     "name": "stderr",
     "output_type": "stream",
     "text": [
      "c:\\Users\\zer0nu11\\Documents\\grad\\skolkovohack2022\\src\\data.py:137: SettingWithCopyWarning: \n",
      "A value is trying to be set on a copy of a slice from a DataFrame\n",
      "\n",
      "See the caveats in the documentation: https://pandas.pydata.org/pandas-docs/stable/user_guide/indexing.html#returning-a-view-versus-a-copy\n",
      "  df.rename(columns={'JobId':'id'}, inplace=True)\n",
      "c:\\Users\\zer0nu11\\Documents\\grad\\skolkovohack2022\\src\\data.py:148: SettingWithCopyWarning: \n",
      "A value is trying to be set on a copy of a slice from a DataFrame\n",
      "\n",
      "See the caveats in the documentation: https://pandas.pydata.org/pandas-docs/stable/user_guide/indexing.html#returning-a-view-versus-a-copy\n",
      "  df.rename(columns={'CandidateId':'id', 'CandidateRegion':'Region'}, inplace=True)\n"
     ]
    }
   ],
   "source": [
    "load = 1\n",
    "if load:\n",
    "    data.load_data()\n",
    "    jobs = data.get_embedding(data.get_soup_job(data.data_jobs))\n",
    "    candidates = data.get_embedding(data.get_soup_candidate(data.data_candidates))\n",
    "    # jobs.to_csv(data.data_path+'jobs_embed.csv')\n",
    "    # candidates.to_csv(data.data_path+'candidates_embed.csv')\n",
    "    train=data.get_train_data(jobs,candidates,data.status)\n",
    "    train=data.make_train_array(train)\n",
    "    # np.load(data.data_path+'train.npy').shape"
   ]
  },
  {
   "cell_type": "code",
   "execution_count": 6,
   "metadata": {},
   "outputs": [
    {
     "name": "stderr",
     "output_type": "stream",
     "text": [
      "c:\\Users\\zer0nu11\\Documents\\grad\\skolkovohack2022\\src\\data.py:137: SettingWithCopyWarning: \n",
      "A value is trying to be set on a copy of a slice from a DataFrame\n",
      "\n",
      "See the caveats in the documentation: https://pandas.pydata.org/pandas-docs/stable/user_guide/indexing.html#returning-a-view-versus-a-copy\n",
      "  df.rename(columns={'JobId':'id'}, inplace=True)\n",
      "c:\\Users\\zer0nu11\\Documents\\grad\\skolkovohack2022\\src\\data.py:148: SettingWithCopyWarning: \n",
      "A value is trying to be set on a copy of a slice from a DataFrame\n",
      "\n",
      "See the caveats in the documentation: https://pandas.pydata.org/pandas-docs/stable/user_guide/indexing.html#returning-a-view-versus-a-copy\n",
      "  df.rename(columns={'CandidateId':'id', 'CandidateRegion':'Region'}, inplace=True)\n"
     ]
    }
   ],
   "source": [
    "data.load_data(raw=True)\n",
    "x = data.pair_to_vec(data.test_jobs,data.test_candidates,data.test_candidates_workplaces,data.test_candidates_education)"
   ]
  },
  {
   "cell_type": "code",
   "execution_count": 7,
   "metadata": {},
   "outputs": [
    {
     "data": {
      "text/html": [
       "<div>\n",
       "<style scoped>\n",
       "    .dataframe tbody tr th:only-of-type {\n",
       "        vertical-align: middle;\n",
       "    }\n",
       "\n",
       "    .dataframe tbody tr th {\n",
       "        vertical-align: top;\n",
       "    }\n",
       "\n",
       "    .dataframe thead th {\n",
       "        text-align: right;\n",
       "    }\n",
       "</style>\n",
       "<table border=\"1\" class=\"dataframe\">\n",
       "  <thead>\n",
       "    <tr style=\"text-align: right;\">\n",
       "      <th></th>\n",
       "      <th>job_id</th>\n",
       "      <th>cand_id</th>\n",
       "    </tr>\n",
       "  </thead>\n",
       "  <tbody>\n",
       "    <tr>\n",
       "      <th>0</th>\n",
       "      <td>140952</td>\n",
       "      <td>8458568</td>\n",
       "    </tr>\n",
       "    <tr>\n",
       "      <th>1</th>\n",
       "      <td>140952</td>\n",
       "      <td>8480519</td>\n",
       "    </tr>\n",
       "    <tr>\n",
       "      <th>2</th>\n",
       "      <td>140952</td>\n",
       "      <td>8511395</td>\n",
       "    </tr>\n",
       "    <tr>\n",
       "      <th>3</th>\n",
       "      <td>140952</td>\n",
       "      <td>8511459</td>\n",
       "    </tr>\n",
       "    <tr>\n",
       "      <th>4</th>\n",
       "      <td>140952</td>\n",
       "      <td>8530237</td>\n",
       "    </tr>\n",
       "    <tr>\n",
       "      <th>...</th>\n",
       "      <td>...</td>\n",
       "      <td>...</td>\n",
       "    </tr>\n",
       "    <tr>\n",
       "      <th>1995</th>\n",
       "      <td>241719</td>\n",
       "      <td>339</td>\n",
       "    </tr>\n",
       "    <tr>\n",
       "      <th>1996</th>\n",
       "      <td>241719</td>\n",
       "      <td>585</td>\n",
       "    </tr>\n",
       "    <tr>\n",
       "      <th>1997</th>\n",
       "      <td>241719</td>\n",
       "      <td>616</td>\n",
       "    </tr>\n",
       "    <tr>\n",
       "      <th>1998</th>\n",
       "      <td>241719</td>\n",
       "      <td>622</td>\n",
       "    </tr>\n",
       "    <tr>\n",
       "      <th>1999</th>\n",
       "      <td>241719</td>\n",
       "      <td>637</td>\n",
       "    </tr>\n",
       "  </tbody>\n",
       "</table>\n",
       "<p>2000 rows × 2 columns</p>\n",
       "</div>"
      ],
      "text/plain": [
       "      job_id  cand_id\n",
       "0     140952  8458568\n",
       "1     140952  8480519\n",
       "2     140952  8511395\n",
       "3     140952  8511459\n",
       "4     140952  8530237\n",
       "...      ...      ...\n",
       "1995  241719      339\n",
       "1996  241719      585\n",
       "1997  241719      616\n",
       "1998  241719      622\n",
       "1999  241719      637\n",
       "\n",
       "[2000 rows x 2 columns]"
      ]
     },
     "execution_count": 7,
     "metadata": {},
     "output_type": "execute_result"
    }
   ],
   "source": [
    "x[0]"
   ]
  },
  {
   "cell_type": "code",
   "execution_count": 8,
   "metadata": {},
   "outputs": [
    {
     "data": {
      "text/plain": [
       "array([[ 4.76203561e-02,  1.23568783e-02, -6.14226274e-02, ...,\n",
       "         2.10946519e-02, -3.60210836e-02,  1.00000000e+00],\n",
       "       [ 4.76203561e-02,  1.23568783e-02, -6.14226274e-02, ...,\n",
       "         9.95033514e-03, -3.50725949e-02,  1.00000000e+00],\n",
       "       [ 4.76203561e-02,  1.23568783e-02, -6.14226274e-02, ...,\n",
       "         2.55478692e-04, -2.85914205e-02,  1.00000000e+00],\n",
       "       ...,\n",
       "       [ 6.68086857e-02, -1.67187434e-02, -6.45478219e-02, ...,\n",
       "         1.67686343e-02, -3.76195572e-02,  0.00000000e+00],\n",
       "       [ 6.68086857e-02, -1.67187434e-02, -6.45478219e-02, ...,\n",
       "         1.67686343e-02, -3.76195572e-02,  0.00000000e+00],\n",
       "       [ 6.68086857e-02, -1.67187434e-02, -6.45478219e-02, ...,\n",
       "        -7.91142136e-03, -6.95131123e-02,  0.00000000e+00]])"
      ]
     },
     "execution_count": 8,
     "metadata": {},
     "output_type": "execute_result"
    }
   ],
   "source": [
    "x[1]"
   ]
  }
 ],
 "metadata": {
  "kernelspec": {
   "display_name": "Python 3.10.5 64-bit",
   "language": "python",
   "name": "python3"
  },
  "language_info": {
   "codemirror_mode": {
    "name": "ipython",
    "version": 3
   },
   "file_extension": ".py",
   "mimetype": "text/x-python",
   "name": "python",
   "nbconvert_exporter": "python",
   "pygments_lexer": "ipython3",
   "version": "3.10.5"
  },
  "orig_nbformat": 4,
  "vscode": {
   "interpreter": {
    "hash": "42b432d30cc62254b91ead63fa829a83a2bcfd2e7275027632e6c65a5e1b6f06"
   }
  }
 },
 "nbformat": 4,
 "nbformat_minor": 2
}
