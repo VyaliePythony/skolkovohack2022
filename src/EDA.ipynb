{
 "cells": [
  {
   "cell_type": "code",
   "execution_count": 16,
   "id": "b62cee68-d2d2-4e50-8cbe-886d570c3ff1",
   "metadata": {},
   "outputs": [
    {
     "name": "stderr",
     "output_type": "stream",
     "text": [
      "[nltk_data] Downloading package stopwords to\n",
      "[nltk_data]     C:\\Users\\zer0nu11\\AppData\\Roaming\\nltk_data...\n",
      "[nltk_data]   Package stopwords is already up-to-date!\n"
     ]
    }
   ],
   "source": [
    "import numpy as np\n",
    "import pandas as pd\n",
    "import matplotlib.pyplot as plt\n",
    "import os\n",
    "import re\n",
    "from string import punctuation\n",
    "from pymystem3 import Mystem\n",
    "import nltk\n",
    "from nltk.corpus import stopwords\n",
    "from nltk.stem import SnowballStemmer\n",
    "nltk.download(\"stopwords\")\n",
    "russian_stopwords = stopwords.words(\"russian\")\n",
    "snowball = SnowballStemmer(language=\"russian\")\n",
    "mystem = Mystem()"
   ]
  },
  {
   "cell_type": "code",
   "execution_count": 17,
   "id": "3006d92f-ec78-4278-a01f-fa594c701fc1",
   "metadata": {},
   "outputs": [],
   "source": [
    "data_path = 'C:\\\\Users\\\\zer0nu11\\\\Documents\\\\grad\\\\skolkovohack2022\\\\data\\\\for_hack_2022\\\\'\n",
    "test_path = 'C:\\\\Users\\\\zer0nu11\\\\Documents\\\\grad\\\\skolkovohack2022\\\\data\\\\for_hack_2022\\\\test\\\\'"
   ]
  },
  {
   "cell_type": "code",
   "execution_count": 18,
   "id": "d0c4b8f3-dfb1-47b2-b1ec-5559c5a98c25",
   "metadata": {},
   "outputs": [],
   "source": [
    "jobs_labels = ['JobId','Status','Name','Region','Description']\n",
    "test_jobs_labels = ['JobId','Status','Name','Region','Description','nan1','nan2','nan3']\n",
    "candidates_labels = ['CandidateId', 'Position', 'Sex', 'Citizenship', 'Age', 'Salary',\n",
    "       'Langs', 'DriverLicense', 'Subway', 'Skills', 'Employment', 'Schedule',\n",
    "       'CandidateRegion','DateCreated','JobId','CandidateStatusId','Status']\n",
    "candidates_education_labels = ['CandidateId', 'University', 'Faculty', 'GraduateYear']\n",
    "candidates_workplaces_labels = ['CandidateId', 'Position', 'FromYear', 'FromMonth', 'ToYear',\n",
    "       'ToMonth']\n",
    "\n",
    "data_jobs = pd.read_csv(data_path+'data_jobs.csv',sep=';',names=jobs_labels)\n",
    "data_candidates_workplaces = pd.read_csv(data_path+'data_candidates_work_places.csv',sep=';',names=candidates_workplaces_labels)\n",
    "data_candidates_education = pd.read_csv(data_path+'data_candidates_education.csv',sep=';',names=candidates_education_labels)\n",
    "data_candidates = pd.read_csv(data_path+'data_candidates.csv',sep=';',names=candidates_labels)\n",
    "\n",
    "test_jobs = pd.read_csv(test_path+'test_jobs.csv',sep=';',names=test_jobs_labels)\n",
    "test_candidates_workplaces = pd.read_csv(test_path+'test_candidates_workplaces.csv',sep=';')\n",
    "test_candidates_education = pd.read_csv(test_path+'test_candidates_education.csv',sep=';')\n",
    "test_candidates = pd.read_csv(test_path+'test_candidates.csv',sep=';')"
   ]
  },
  {
   "cell_type": "code",
   "execution_count": 30,
   "id": "65a305d2",
   "metadata": {},
   "outputs": [],
   "source": [
    "def clean_text(text, stemming=False):\n",
    "    text = text.lower()\n",
    "    text = re.sub(r'<.*?>', \"\", text)\n",
    "    text = re.sub(r'[\\*+\\#+\\№\\\"\\-+\\+\\=+\\?+\\&\\^\\.+\\;\\,+\\>+\\(\\)\\/+\\:\\\\+]', \"\", text)\n",
    "    tokens = mystem.lemmatize(text)\n",
    "    tokens = set([snowball.stem(token) for token in tokens if token not in russian_stopwords\\\n",
    "                and token != \" \" \\\n",
    "                and token.strip() not in punctuation ])\n",
    "    text = \" \".join(tokens)\n",
    "    return text"
   ]
  },
  {
   "cell_type": "code",
   "execution_count": 32,
   "id": "6ecb310a",
   "metadata": {},
   "outputs": [
    {
     "name": "stdout",
     "output_type": "stream",
     "text": [
      "РАНХ 12иГС (_универ),.<br>    круто</br> он лох я нет крутой крутая\n"
     ]
    },
    {
     "data": {
      "text/plain": [
       "'лох крут универ 12игс ранх'"
      ]
     },
     "execution_count": 32,
     "metadata": {},
     "output_type": "execute_result"
    }
   ],
   "source": [
    "x=data_candidates_education.iloc[654]['Faculty']\n",
    "x=\"РАНХ 12иГС (_универ),.<br>    круто</br> он лох я нет крутой крутая\"\n",
    "print(x)\n",
    "clean_text(x)"
   ]
  },
  {
   "cell_type": "code",
   "execution_count": null,
   "id": "243a1d0e",
   "metadata": {},
   "outputs": [],
   "source": [
    "data_candidates_education.loc[data_candidates_education.Faculty == 'NULL']"
   ]
  },
  {
   "cell_type": "code",
   "execution_count": null,
   "id": "ea7ca0c1",
   "metadata": {},
   "outputs": [],
   "source": [
    "list(data_candidates.loc[data_candidates.Skills.notna()].Skills[:5])"
   ]
  },
  {
   "cell_type": "code",
   "execution_count": null,
   "id": "64760bdb",
   "metadata": {},
   "outputs": [],
   "source": []
  }
 ],
 "metadata": {
  "kernelspec": {
   "display_name": "Python 3.10.5 64-bit",
   "language": "python",
   "name": "python3"
  },
  "language_info": {
   "codemirror_mode": {
    "name": "ipython",
    "version": 3
   },
   "file_extension": ".py",
   "mimetype": "text/x-python",
   "name": "python",
   "nbconvert_exporter": "python",
   "pygments_lexer": "ipython3",
   "version": "3.10.5"
  },
  "vscode": {
   "interpreter": {
    "hash": "42b432d30cc62254b91ead63fa829a83a2bcfd2e7275027632e6c65a5e1b6f06"
   }
  }
 },
 "nbformat": 4,
 "nbformat_minor": 5
}
