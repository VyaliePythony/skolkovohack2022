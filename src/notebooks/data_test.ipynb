{
 "cells": [
  {
   "cell_type": "code",
   "execution_count": 1,
   "metadata": {},
   "outputs": [],
   "source": [
    "import numpy as np\n",
    "import pandas as pd\n",
    "import matplotlib.pyplot as plt\n",
    "import sys\n",
    "sys.path.append('C:\\\\Users\\\\zer0nu11\\\\Documents\\\\grad\\\\skolkovohack2022\\\\src\\\\')"
   ]
  },
  {
   "cell_type": "code",
   "execution_count": 2,
   "metadata": {},
   "outputs": [
    {
     "name": "stderr",
     "output_type": "stream",
     "text": [
      "c:\\Users\\zer0nu11\\AppData\\Local\\Programs\\Python\\Python310\\lib\\site-packages\\tqdm\\auto.py:22: TqdmWarning: IProgress not found. Please update jupyter and ipywidgets. See https://ipywidgets.readthedocs.io/en/stable/user_install.html\n",
      "  from .autonotebook import tqdm as notebook_tqdm\n",
      "Some weights of the model checkpoint at cointegrated/rubert-tiny were not used when initializing BertModel: ['cls.predictions.decoder.bias', 'cls.predictions.decoder.weight', 'cls.predictions.transform.dense.bias', 'cls.seq_relationship.bias', 'cls.predictions.bias', 'cls.seq_relationship.weight', 'cls.predictions.transform.LayerNorm.bias', 'cls.predictions.transform.dense.weight', 'cls.predictions.transform.LayerNorm.weight']\n",
      "- This IS expected if you are initializing BertModel from the checkpoint of a model trained on another task or with another architecture (e.g. initializing a BertForSequenceClassification model from a BertForPreTraining model).\n",
      "- This IS NOT expected if you are initializing BertModel from the checkpoint of a model that you expect to be exactly identical (initializing a BertForSequenceClassification model from a BertForSequenceClassification model).\n"
     ]
    }
   ],
   "source": [
    "import data"
   ]
  },
  {
   "cell_type": "code",
   "execution_count": 3,
   "metadata": {},
   "outputs": [],
   "source": [
    "data_path = 'C:\\\\Users\\\\zer0nu11\\\\Documents\\\\grad\\\\skolkovohack2022\\\\data\\\\for_hack_2022\\\\'\n",
    "data.set_path(data_path)"
   ]
  },
  {
   "cell_type": "code",
   "execution_count": 4,
   "metadata": {},
   "outputs": [],
   "source": [
    "load = 0\n",
    "if load:\n",
    "    data.load_data()\n",
    "    jobs = data.get_embedding(data.get_soup_job(data.data_jobs))\n",
    "    candidates = data.get_embedding(data.get_soup_candidate(data.data_candidates))\n",
    "    # jobs.to_csv(data.data_path+'jobs_embed.csv')\n",
    "    # candidates.to_csv(data.data_path+'candidates_embed.csv')\n",
    "    train=data.get_train_data(jobs,candidates,data.status)\n",
    "    train=data.make_train_array(train)\n",
    "    # np.load(data.data_path+'train.npy').shape"
   ]
  },
  {
   "cell_type": "code",
   "execution_count": 5,
   "metadata": {},
   "outputs": [
    {
     "name": "stderr",
     "output_type": "stream",
     "text": [
      "C:\\Users\\zer0nu11\\Documents\\grad\\skolkovohack2022\\src\\data.py:137: SettingWithCopyWarning: \n",
      "A value is trying to be set on a copy of a slice from a DataFrame\n",
      "\n",
      "See the caveats in the documentation: https://pandas.pydata.org/pandas-docs/stable/user_guide/indexing.html#returning-a-view-versus-a-copy\n",
      "  df.rename(columns={'JobId':'id'}, inplace=True)\n",
      "C:\\Users\\zer0nu11\\Documents\\grad\\skolkovohack2022\\src\\data.py:148: SettingWithCopyWarning: \n",
      "A value is trying to be set on a copy of a slice from a DataFrame\n",
      "\n",
      "See the caveats in the documentation: https://pandas.pydata.org/pandas-docs/stable/user_guide/indexing.html#returning-a-view-versus-a-copy\n",
      "  df.rename(columns={'CandidateId':'id', 'CandidateRegion':'Region'}, inplace=True)\n"
     ]
    }
   ],
   "source": [
    "# test dataframe test gen from test dataset\n",
    "data.load_data(raw=True)\n",
    "x = data.pair_to_vec(data.test_jobs,data.test_candidates,data.test_candidates_workplaces,data.test_candidates_education)"
   ]
  },
  {
   "cell_type": "code",
   "execution_count": 9,
   "metadata": {},
   "outputs": [
    {
     "data": {
      "text/plain": [
       "array([[ 4.76203561e-02,  1.23568783e-02, -6.14226274e-02, ...,\n",
       "         2.17462368e-02, -3.56325246e-02,  1.00000000e+00],\n",
       "       [ 4.76203561e-02,  1.23568783e-02, -6.14226274e-02, ...,\n",
       "         9.94428154e-03, -3.49328928e-02,  1.00000000e+00],\n",
       "       [ 4.76203561e-02,  1.23568783e-02, -6.14226274e-02, ...,\n",
       "         5.74198144e-04, -2.86212023e-02,  1.00000000e+00],\n",
       "       ...,\n",
       "       [ 6.68086857e-02, -1.67187434e-02, -6.45478219e-02, ...,\n",
       "         1.79275256e-02, -3.70073244e-02,  0.00000000e+00],\n",
       "       [ 6.68086857e-02, -1.67187434e-02, -6.45478219e-02, ...,\n",
       "         1.79275256e-02, -3.70073244e-02,  0.00000000e+00],\n",
       "       [ 6.68086857e-02, -1.67187434e-02, -6.45478219e-02, ...,\n",
       "        -5.92902908e-03, -6.91760853e-02,  0.00000000e+00]])"
      ]
     },
     "execution_count": 9,
     "metadata": {},
     "output_type": "execute_result"
    }
   ],
   "source": [
    "x[1]"
   ]
  },
  {
   "cell_type": "code",
   "execution_count": 7,
   "metadata": {},
   "outputs": [
    {
     "name": "stderr",
     "output_type": "stream",
     "text": [
      "C:\\Users\\zer0nu11\\Documents\\grad\\skolkovohack2022\\src\\data.py:137: SettingWithCopyWarning: \n",
      "A value is trying to be set on a copy of a slice from a DataFrame\n",
      "\n",
      "See the caveats in the documentation: https://pandas.pydata.org/pandas-docs/stable/user_guide/indexing.html#returning-a-view-versus-a-copy\n",
      "  df.rename(columns={'JobId':'id'}, inplace=True)\n",
      "C:\\Users\\zer0nu11\\Documents\\grad\\skolkovohack2022\\src\\data.py:148: SettingWithCopyWarning: \n",
      "A value is trying to be set on a copy of a slice from a DataFrame\n",
      "\n",
      "See the caveats in the documentation: https://pandas.pydata.org/pandas-docs/stable/user_guide/indexing.html#returning-a-view-versus-a-copy\n",
      "  df.rename(columns={'CandidateId':'id', 'CandidateRegion':'Region'}, inplace=True)\n"
     ]
    }
   ],
   "source": [
    "# test random dataframe test gen\n",
    "jobs = data.test_jobs.iloc[2:6]\n",
    "candidates = data.test_candidates.iloc[5:16]\n",
    "candidates_education = data.test_candidates_education.iloc[5:101]\n",
    "candidates_workplaces = data.test_candidates_workplaces.iloc[100:400]\n",
    "test = data.pair_to_vec(jobs,candidates,candidates_workplaces,candidates_education)"
   ]
  },
  {
   "cell_type": "code",
   "execution_count": null,
   "metadata": {},
   "outputs": [],
   "source": []
  }
 ],
 "metadata": {
  "kernelspec": {
   "display_name": "Python 3.10.5 64-bit",
   "language": "python",
   "name": "python3"
  },
  "language_info": {
   "codemirror_mode": {
    "name": "ipython",
    "version": 3
   },
   "file_extension": ".py",
   "mimetype": "text/x-python",
   "name": "python",
   "nbconvert_exporter": "python",
   "pygments_lexer": "ipython3",
   "version": "3.10.5"
  },
  "orig_nbformat": 4,
  "vscode": {
   "interpreter": {
    "hash": "42b432d30cc62254b91ead63fa829a83a2bcfd2e7275027632e6c65a5e1b6f06"
   }
  }
 },
 "nbformat": 4,
 "nbformat_minor": 2
}
