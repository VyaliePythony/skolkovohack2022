{
 "cells": [
  {
   "cell_type": "code",
   "execution_count": 1,
   "metadata": {},
   "outputs": [],
   "source": [
    "import numpy as np\n",
    "import pandas as pd\n",
    "import matplotlib.pyplot as plt\n",
    "\n",
    "import data"
   ]
  },
  {
   "cell_type": "code",
   "execution_count": 2,
   "metadata": {},
   "outputs": [],
   "source": [
    "data_path = 'C:\\\\Users\\\\zer0nu11\\\\Documents\\\\grad\\\\skolkovohack2022\\\\data\\\\for_hack_2022\\\\'\n",
    "data.set_path(data_path)\n",
    "\n",
    "data.load_data()"
   ]
  },
  {
   "cell_type": "code",
   "execution_count": 3,
   "metadata": {},
   "outputs": [],
   "source": [
    "# plt.hist(data.status.Status)"
   ]
  },
  {
   "cell_type": "code",
   "execution_count": 4,
   "metadata": {},
   "outputs": [],
   "source": [
    "x=data.get_soup_job(data.data_jobs)\n",
    "y=data.get_soup_candidate(data.data_candidates)"
   ]
  },
  {
   "cell_type": "code",
   "execution_count": 9,
   "metadata": {},
   "outputs": [
    {
     "data": {
      "text/html": [
       "<div>\n",
       "<style scoped>\n",
       "    .dataframe tbody tr th:only-of-type {\n",
       "        vertical-align: middle;\n",
       "    }\n",
       "\n",
       "    .dataframe tbody tr th {\n",
       "        vertical-align: top;\n",
       "    }\n",
       "\n",
       "    .dataframe thead th {\n",
       "        text-align: right;\n",
       "    }\n",
       "</style>\n",
       "<table border=\"1\" class=\"dataframe\">\n",
       "  <thead>\n",
       "    <tr style=\"text-align: right;\">\n",
       "      <th></th>\n",
       "      <th>CandidateId</th>\n",
       "      <th>CandidateRegion</th>\n",
       "      <th>Soup</th>\n",
       "    </tr>\n",
       "  </thead>\n",
       "  <tbody>\n",
       "    <tr>\n",
       "      <th>0</th>\n",
       "      <td>614735</td>\n",
       "      <td>санкт петербург</td>\n",
       "      <td>водитель экспедитор категории b c эсу экономик...</td>\n",
       "    </tr>\n",
       "    <tr>\n",
       "      <th>1</th>\n",
       "      <td>614684</td>\n",
       "      <td>санкт петербург</td>\n",
       "      <td>водитель категории b c слесарь 3 разряд водите...</td>\n",
       "    </tr>\n",
       "    <tr>\n",
       "      <th>2</th>\n",
       "      <td>614712</td>\n",
       "      <td>санкт петербург</td>\n",
       "      <td>водитель офисный слесарь – механик 3 разряда в...</td>\n",
       "    </tr>\n",
       "    <tr>\n",
       "      <th>3</th>\n",
       "      <td>614734</td>\n",
       "      <td>санкт петербург</td>\n",
       "      <td>водитель категории a b c экономики менеджмент ...</td>\n",
       "    </tr>\n",
       "    <tr>\n",
       "      <th>4</th>\n",
       "      <td>617167</td>\n",
       "      <td>санкт петербург</td>\n",
       "      <td>водитель английский категории b c d строительс...</td>\n",
       "    </tr>\n",
       "    <tr>\n",
       "      <th>...</th>\n",
       "      <td>...</td>\n",
       "      <td>...</td>\n",
       "      <td>...</td>\n",
       "    </tr>\n",
       "    <tr>\n",
       "      <th>16631</th>\n",
       "      <td>24189196</td>\n",
       "      <td>москва</td>\n",
       "      <td>водитель погрузчика русский категории b c спец...</td>\n",
       "    </tr>\n",
       "    <tr>\n",
       "      <th>16632</th>\n",
       "      <td>24191343</td>\n",
       "      <td>москва</td>\n",
       "      <td>водитель погрузчика русский категории b действ...</td>\n",
       "    </tr>\n",
       "    <tr>\n",
       "      <th>16633</th>\n",
       "      <td>24207766</td>\n",
       "      <td>москва</td>\n",
       "      <td>кладовщик комплектовщик русский категории b c ...</td>\n",
       "    </tr>\n",
       "    <tr>\n",
       "      <th>16634</th>\n",
       "      <td>24207796</td>\n",
       "      <td>москва</td>\n",
       "      <td>водитель погрузчика штабелера русский юриспруд...</td>\n",
       "    </tr>\n",
       "    <tr>\n",
       "      <th>16635</th>\n",
       "      <td>24228268</td>\n",
       "      <td>москва</td>\n",
       "      <td>водитель электропогрузчика русский водитель по...</td>\n",
       "    </tr>\n",
       "  </tbody>\n",
       "</table>\n",
       "<p>16636 rows × 3 columns</p>\n",
       "</div>"
      ],
      "text/plain": [
       "       CandidateId  CandidateRegion  \\\n",
       "0           614735  санкт петербург   \n",
       "1           614684  санкт петербург   \n",
       "2           614712  санкт петербург   \n",
       "3           614734  санкт петербург   \n",
       "4           617167  санкт петербург   \n",
       "...            ...              ...   \n",
       "16631     24189196           москва   \n",
       "16632     24191343           москва   \n",
       "16633     24207766           москва   \n",
       "16634     24207796           москва   \n",
       "16635     24228268           москва   \n",
       "\n",
       "                                                    Soup  \n",
       "0      водитель экспедитор категории b c эсу экономик...  \n",
       "1      водитель категории b c слесарь 3 разряд водите...  \n",
       "2      водитель офисный слесарь – механик 3 разряда в...  \n",
       "3      водитель категории a b c экономики менеджмент ...  \n",
       "4      водитель английский категории b c d строительс...  \n",
       "...                                                  ...  \n",
       "16631  водитель погрузчика русский категории b c спец...  \n",
       "16632  водитель погрузчика русский категории b действ...  \n",
       "16633  кладовщик комплектовщик русский категории b c ...  \n",
       "16634  водитель погрузчика штабелера русский юриспруд...  \n",
       "16635  водитель электропогрузчика русский водитель по...  \n",
       "\n",
       "[16636 rows x 3 columns]"
      ]
     },
     "execution_count": 9,
     "metadata": {},
     "output_type": "execute_result"
    }
   ],
   "source": []
  },
  {
   "cell_type": "code",
   "execution_count": null,
   "metadata": {},
   "outputs": [],
   "source": []
  }
 ],
 "metadata": {
  "kernelspec": {
   "display_name": "Python 3.10.5 64-bit",
   "language": "python",
   "name": "python3"
  },
  "language_info": {
   "codemirror_mode": {
    "name": "ipython",
    "version": 3
   },
   "file_extension": ".py",
   "mimetype": "text/x-python",
   "name": "python",
   "nbconvert_exporter": "python",
   "pygments_lexer": "ipython3",
   "version": "3.10.5"
  },
  "orig_nbformat": 4,
  "vscode": {
   "interpreter": {
    "hash": "42b432d30cc62254b91ead63fa829a83a2bcfd2e7275027632e6c65a5e1b6f06"
   }
  }
 },
 "nbformat": 4,
 "nbformat_minor": 2
}
