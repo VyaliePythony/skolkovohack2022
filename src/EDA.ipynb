{
 "cells": [
  {
   "cell_type": "code",
   "execution_count": 1,
   "id": "b62cee68-d2d2-4e50-8cbe-886d570c3ff1",
   "metadata": {},
   "outputs": [],
   "source": [
    "import numpy as np\n",
    "import pandas as pd\n",
    "import matplotlib.pyplot as plt\n",
    "import os"
   ]
  },
  {
   "cell_type": "code",
   "execution_count": 2,
   "id": "3006d92f-ec78-4278-a01f-fa594c701fc1",
   "metadata": {},
   "outputs": [],
   "source": [
    "data_path = 'C:\\\\Users\\\\zer0nu11\\\\Documents\\\\grad\\\\skolkovohack2022\\\\data\\\\for_hack_2022\\\\'\n",
    "test_path = 'C:\\\\Users\\\\zer0nu11\\\\Documents\\\\grad\\\\skolkovohack2022\\\\data\\\\for_hack_2022\\\\test\\\\'"
   ]
  },
  {
   "cell_type": "code",
   "execution_count": 4,
   "id": "d0c4b8f3-dfb1-47b2-b1ec-5559c5a98c25",
   "metadata": {},
   "outputs": [],
   "source": [
    "data_jobs = pd.read_csv(data_path+'data_jobs.csv',sep=';')\n",
    "data_candidates_work_places = pd.read_csv(data_path+'data_candidates_work_places.csv',sep=';')\n",
    "data_candidates_education = pd.read_csv(data_path+'data_candidates_education.csv',sep=';')\n",
    "data_candidates = pd.read_csv(data_path+'data_candidates.csv',sep=';')\n",
    "\n",
    "test_jobs = pd.read_csv(test_path+'test_jobs.csv',sep=';')\n",
    "test_candidates_work_places = pd.read_csv(test_path+'test_candidates_workplaces.csv',sep=';')\n",
    "test_candidates_education = pd.read_csv(test_path+'test_candidates_education.csv',sep=';')\n",
    "test_candidates = pd.read_csv(test_path+'test_candidates.csv',sep=';')"
   ]
  },
  {
   "cell_type": "code",
   "execution_count": 5,
   "id": "803dbdf0-ec0c-41d7-9b1a-69bcb8efab8a",
   "metadata": {},
   "outputs": [
    {
     "data": {
      "text/html": [
       "<div>\n",
       "<style scoped>\n",
       "    .dataframe tbody tr th:only-of-type {\n",
       "        vertical-align: middle;\n",
       "    }\n",
       "\n",
       "    .dataframe tbody tr th {\n",
       "        vertical-align: top;\n",
       "    }\n",
       "\n",
       "    .dataframe thead th {\n",
       "        text-align: right;\n",
       "    }\n",
       "</style>\n",
       "<table border=\"1\" class=\"dataframe\">\n",
       "  <thead>\n",
       "    <tr style=\"text-align: right;\">\n",
       "      <th></th>\n",
       "      <th>7435</th>\n",
       "      <th>Водитель-экспедитор</th>\n",
       "      <th>2</th>\n",
       "      <th>Россия</th>\n",
       "      <th>21</th>\n",
       "      <th>0</th>\n",
       "      <th>NULL</th>\n",
       "      <th>NULL.1</th>\n",
       "      <th>NULL.2</th>\n",
       "      <th>NULL.3</th>\n",
       "      <th>Full</th>\n",
       "      <th>Full.1</th>\n",
       "      <th>Санкт-Петербург</th>\n",
       "      <th>2014-01-15 00:00:00.0000000</th>\n",
       "      <th>163</th>\n",
       "      <th>1425</th>\n",
       "      <th>Отклонен</th>\n",
       "    </tr>\n",
       "  </thead>\n",
       "  <tbody>\n",
       "    <tr>\n",
       "      <th>0</th>\n",
       "      <td>7445</td>\n",
       "      <td>Водитель-экспедитор</td>\n",
       "      <td>2</td>\n",
       "      <td>Россия</td>\n",
       "      <td>23</td>\n",
       "      <td>0</td>\n",
       "      <td>NaN</td>\n",
       "      <td>NaN</td>\n",
       "      <td>NaN</td>\n",
       "      <td>NaN</td>\n",
       "      <td>Full</td>\n",
       "      <td>Full</td>\n",
       "      <td>Санкт-Петербург</td>\n",
       "      <td>2014-01-15 00:00:00.0000000</td>\n",
       "      <td>163</td>\n",
       "      <td>1425</td>\n",
       "      <td>Отклонен</td>\n",
       "    </tr>\n",
       "    <tr>\n",
       "      <th>1</th>\n",
       "      <td>7450</td>\n",
       "      <td>Водитель-экспедитор</td>\n",
       "      <td>2</td>\n",
       "      <td>Россия</td>\n",
       "      <td>31</td>\n",
       "      <td>0</td>\n",
       "      <td>NaN</td>\n",
       "      <td>NaN</td>\n",
       "      <td>NaN</td>\n",
       "      <td>NaN</td>\n",
       "      <td>Full</td>\n",
       "      <td>Full</td>\n",
       "      <td>Санкт-Петербург</td>\n",
       "      <td>2014-01-15 00:00:00.0000000</td>\n",
       "      <td>163</td>\n",
       "      <td>1425</td>\n",
       "      <td>Отклонен</td>\n",
       "    </tr>\n",
       "    <tr>\n",
       "      <th>2</th>\n",
       "      <td>7452</td>\n",
       "      <td>Водитель-экспедитор</td>\n",
       "      <td>2</td>\n",
       "      <td>Россия</td>\n",
       "      <td>23</td>\n",
       "      <td>0</td>\n",
       "      <td>NaN</td>\n",
       "      <td>NaN</td>\n",
       "      <td>NaN</td>\n",
       "      <td>NaN</td>\n",
       "      <td>Full</td>\n",
       "      <td>Full</td>\n",
       "      <td>Санкт-Петербург</td>\n",
       "      <td>2014-01-15 00:00:00.0000000</td>\n",
       "      <td>163</td>\n",
       "      <td>1425</td>\n",
       "      <td>Отклонен</td>\n",
       "    </tr>\n",
       "  </tbody>\n",
       "</table>\n",
       "</div>"
      ],
      "text/plain": [
       "   7435  Водитель-экспедитор  2  Россия  21  0 NULL NULL.1 NULL.2 NULL.3  \\\n",
       "0  7445  Водитель-экспедитор  2  Россия  23  0  NaN    NaN    NaN    NaN   \n",
       "1  7450  Водитель-экспедитор  2  Россия  31  0  NaN    NaN    NaN    NaN   \n",
       "2  7452  Водитель-экспедитор  2  Россия  23  0  NaN    NaN    NaN    NaN   \n",
       "\n",
       "   Full Full.1  Санкт-Петербург  2014-01-15 00:00:00.0000000  163  1425  \\\n",
       "0  Full   Full  Санкт-Петербург  2014-01-15 00:00:00.0000000  163  1425   \n",
       "1  Full   Full  Санкт-Петербург  2014-01-15 00:00:00.0000000  163  1425   \n",
       "2  Full   Full  Санкт-Петербург  2014-01-15 00:00:00.0000000  163  1425   \n",
       "\n",
       "   Отклонен  \n",
       "0  Отклонен  \n",
       "1  Отклонен  \n",
       "2  Отклонен  "
      ]
     },
     "execution_count": 5,
     "metadata": {},
     "output_type": "execute_result"
    }
   ],
   "source": [
    "data_candidates.head(3)"
   ]
  },
  {
   "cell_type": "code",
   "execution_count": 9,
   "id": "c030517e",
   "metadata": {},
   "outputs": [
    {
     "data": {
      "text/plain": [
       "(647, 5)"
      ]
     },
     "execution_count": 9,
     "metadata": {},
     "output_type": "execute_result"
    }
   ],
   "source": [
    "data_candidates = data_candidates.rename(columns={'7435': \"CandidateId\", 'Водитель-экспедитор': \"Position\", '2': \"Sex\",\n",
    "                                'Россия': \"Citizenship\" ,'21' : 'Age', '0': 'Salary', 'NULL': ' Langs',\n",
    "                                'NULL.1' : 'DriverLicense','NULL.2' : 'Subway' , 'NULL.3': 'Skills','Full' : 'Employment','Full.1' : 'Shedule',\n",
    "                               'Санкт-Петербург' : 'CandidateRegion','2014-01-15 00:00:00.0000000' : 'DateCreated','163' : 'JobId','1425' : 'CandidateStatusId','Отклонен' : 'Status'\n",
    "                                })\n",
    "data_candidates.head(3)           \n",
    "data_jobs.shape"
   ]
  },
  {
   "cell_type": "code",
   "execution_count": null,
   "id": "9dc678d1",
   "metadata": {},
   "outputs": [],
   "source": []
  }
 ],
 "metadata": {
  "kernelspec": {
   "display_name": "Python 3.10.5 64-bit",
   "language": "python",
   "name": "python3"
  },
  "language_info": {
   "codemirror_mode": {
    "name": "ipython",
    "version": 3
   },
   "file_extension": ".py",
   "mimetype": "text/x-python",
   "name": "python",
   "nbconvert_exporter": "python",
   "pygments_lexer": "ipython3",
   "version": "3.10.5"
  },
  "vscode": {
   "interpreter": {
    "hash": "42b432d30cc62254b91ead63fa829a83a2bcfd2e7275027632e6c65a5e1b6f06"
   }
  }
 },
 "nbformat": 4,
 "nbformat_minor": 5
}
