{
 "cells": [
  {
   "cell_type": "code",
   "execution_count": 1,
   "metadata": {},
   "outputs": [],
   "source": [
    "import numpy as np\n",
    "import pandas as pd\n",
    "import matplotlib.pyplot as plt"
   ]
  },
  {
   "cell_type": "code",
   "execution_count": 2,
   "metadata": {},
   "outputs": [
    {
     "name": "stderr",
     "output_type": "stream",
     "text": [
      "c:\\Users\\zer0nu11\\AppData\\Local\\Programs\\Python\\Python310\\lib\\site-packages\\tqdm\\auto.py:22: TqdmWarning: IProgress not found. Please update jupyter and ipywidgets. See https://ipywidgets.readthedocs.io/en/stable/user_install.html\n",
      "  from .autonotebook import tqdm as notebook_tqdm\n",
      "Some weights of the model checkpoint at cointegrated/rubert-tiny were not used when initializing BertModel: ['cls.predictions.decoder.weight', 'cls.seq_relationship.bias', 'cls.predictions.transform.dense.weight', 'cls.predictions.transform.dense.bias', 'cls.seq_relationship.weight', 'cls.predictions.transform.LayerNorm.weight', 'cls.predictions.bias', 'cls.predictions.decoder.bias', 'cls.predictions.transform.LayerNorm.bias']\n",
      "- This IS expected if you are initializing BertModel from the checkpoint of a model trained on another task or with another architecture (e.g. initializing a BertForSequenceClassification model from a BertForPreTraining model).\n",
      "- This IS NOT expected if you are initializing BertModel from the checkpoint of a model that you expect to be exactly identical (initializing a BertForSequenceClassification model from a BertForSequenceClassification model).\n"
     ]
    }
   ],
   "source": [
    "import data"
   ]
  },
  {
   "cell_type": "code",
   "execution_count": 3,
   "metadata": {},
   "outputs": [],
   "source": [
    "data_path = 'C:\\\\Users\\\\zer0nu11\\\\Documents\\\\grad\\\\skolkovohack2022\\\\data\\\\for_hack_2022\\\\'\n",
    "data.set_path(data_path)\n",
    "\n",
    "data.load_data()"
   ]
  },
  {
   "cell_type": "code",
   "execution_count": 4,
   "metadata": {},
   "outputs": [],
   "source": [
    "# data_candidates_embed = data.get_embedding(data.get_soup_candidate(data.data_candidates))\n",
    "# data_jobs_embed = data.get_embedding(data.get_soup_job(data.data_jobs))\n",
    "# data_jobs_embed.to_csv('jobs_embed.csv')\n",
    "# data_candidates_embed.to_csv('candidates_embed.csv')"
   ]
  },
  {
   "cell_type": "code",
   "execution_count": 5,
   "metadata": {},
   "outputs": [],
   "source": [
    "load = 1\n",
    "if load:\n",
    "    jobs = pd.read_csv(data_path+'jobs_embed.csv').drop(['Unnamed: 0'],axis=1)\n",
    "    candidates = pd.read_csv(data_path+'candidates_embed.csv').drop(['Unnamed: 0'],axis=1)\n",
    "else:\n",
    "    jobs = data.get_embedding(data.get_soup_job(data.data_jobs))\n",
    "    candidates = data.get_embedding(data.get_soup_candidate(data.data_candidates))"
   ]
  },
  {
   "cell_type": "code",
   "execution_count": 6,
   "metadata": {},
   "outputs": [
    {
     "data": {
      "text/html": [
       "<div>\n",
       "<style scoped>\n",
       "    .dataframe tbody tr th:only-of-type {\n",
       "        vertical-align: middle;\n",
       "    }\n",
       "\n",
       "    .dataframe tbody tr th {\n",
       "        vertical-align: top;\n",
       "    }\n",
       "\n",
       "    .dataframe thead th {\n",
       "        text-align: right;\n",
       "    }\n",
       "</style>\n",
       "<table border=\"1\" class=\"dataframe\">\n",
       "  <thead>\n",
       "    <tr style=\"text-align: right;\">\n",
       "      <th></th>\n",
       "      <th>job_embed</th>\n",
       "      <th>Status</th>\n",
       "      <th>cand_embed</th>\n",
       "      <th>region</th>\n",
       "    </tr>\n",
       "  </thead>\n",
       "  <tbody>\n",
       "    <tr>\n",
       "      <th>0</th>\n",
       "      <td>[-3.34765166e-02 -2.13593747e-02 -1.54068484e-...</td>\n",
       "      <td>0.3</td>\n",
       "      <td>[ 3.09337489e-02 -1.64544256e-03 -1.81843732e-...</td>\n",
       "      <td>1</td>\n",
       "    </tr>\n",
       "    <tr>\n",
       "      <th>1</th>\n",
       "      <td>[-3.34765166e-02 -2.13593747e-02 -1.54068484e-...</td>\n",
       "      <td>0.0</td>\n",
       "      <td>[ 3.09337489e-02 -1.64544256e-03 -1.81843732e-...</td>\n",
       "      <td>1</td>\n",
       "    </tr>\n",
       "    <tr>\n",
       "      <th>2</th>\n",
       "      <td>[-3.34765166e-02 -2.13593747e-02 -1.54068484e-...</td>\n",
       "      <td>0.3</td>\n",
       "      <td>[ 4.93665077e-02  5.20176487e-03 -2.68281382e-...</td>\n",
       "      <td>1</td>\n",
       "    </tr>\n",
       "    <tr>\n",
       "      <th>3</th>\n",
       "      <td>[-3.34765166e-02 -2.13593747e-02 -1.54068484e-...</td>\n",
       "      <td>0.5</td>\n",
       "      <td>[ 4.93665077e-02  5.20176487e-03 -2.68281382e-...</td>\n",
       "      <td>1</td>\n",
       "    </tr>\n",
       "    <tr>\n",
       "      <th>4</th>\n",
       "      <td>[-3.34765166e-02 -2.13593747e-02 -1.54068484e-...</td>\n",
       "      <td>1.0</td>\n",
       "      <td>[ 4.93665077e-02  5.20176487e-03 -2.68281382e-...</td>\n",
       "      <td>1</td>\n",
       "    </tr>\n",
       "    <tr>\n",
       "      <th>...</th>\n",
       "      <td>...</td>\n",
       "      <td>...</td>\n",
       "      <td>...</td>\n",
       "      <td>...</td>\n",
       "    </tr>\n",
       "    <tr>\n",
       "      <th>40565</th>\n",
       "      <td>[ 8.42614248e-02  4.70994448e-04 -3.48097421e-...</td>\n",
       "      <td>0.0</td>\n",
       "      <td>[-3.71134877e-02 -4.81231138e-03  4.98661846e-...</td>\n",
       "      <td>0</td>\n",
       "    </tr>\n",
       "    <tr>\n",
       "      <th>40566</th>\n",
       "      <td>[ 8.42614248e-02  4.70994448e-04 -3.48097421e-...</td>\n",
       "      <td>0.7</td>\n",
       "      <td>[-3.71134877e-02 -4.81231138e-03  4.98661846e-...</td>\n",
       "      <td>0</td>\n",
       "    </tr>\n",
       "    <tr>\n",
       "      <th>40567</th>\n",
       "      <td>[ 8.42614248e-02  4.70994448e-04 -3.48097421e-...</td>\n",
       "      <td>0.7</td>\n",
       "      <td>[ 2.10516788e-02 -3.68796773e-02 -5.24659716e-...</td>\n",
       "      <td>0</td>\n",
       "    </tr>\n",
       "    <tr>\n",
       "      <th>40568</th>\n",
       "      <td>[ 8.42614248e-02  4.70994448e-04 -3.48097421e-...</td>\n",
       "      <td>0.7</td>\n",
       "      <td>[ 8.0978960e-02 -5.1263943e-02 -4.0368464e-02 ...</td>\n",
       "      <td>0</td>\n",
       "    </tr>\n",
       "    <tr>\n",
       "      <th>40569</th>\n",
       "      <td>[ 8.42614248e-02  4.70994448e-04 -3.48097421e-...</td>\n",
       "      <td>0.7</td>\n",
       "      <td>[ 9.20976605e-03 -3.09015512e-02 -2.37296838e-...</td>\n",
       "      <td>0</td>\n",
       "    </tr>\n",
       "  </tbody>\n",
       "</table>\n",
       "<p>40570 rows × 4 columns</p>\n",
       "</div>"
      ],
      "text/plain": [
       "                                               job_embed  Status  \\\n",
       "0      [-3.34765166e-02 -2.13593747e-02 -1.54068484e-...     0.3   \n",
       "1      [-3.34765166e-02 -2.13593747e-02 -1.54068484e-...     0.0   \n",
       "2      [-3.34765166e-02 -2.13593747e-02 -1.54068484e-...     0.3   \n",
       "3      [-3.34765166e-02 -2.13593747e-02 -1.54068484e-...     0.5   \n",
       "4      [-3.34765166e-02 -2.13593747e-02 -1.54068484e-...     1.0   \n",
       "...                                                  ...     ...   \n",
       "40565  [ 8.42614248e-02  4.70994448e-04 -3.48097421e-...     0.0   \n",
       "40566  [ 8.42614248e-02  4.70994448e-04 -3.48097421e-...     0.7   \n",
       "40567  [ 8.42614248e-02  4.70994448e-04 -3.48097421e-...     0.7   \n",
       "40568  [ 8.42614248e-02  4.70994448e-04 -3.48097421e-...     0.7   \n",
       "40569  [ 8.42614248e-02  4.70994448e-04 -3.48097421e-...     0.7   \n",
       "\n",
       "                                              cand_embed  region  \n",
       "0      [ 3.09337489e-02 -1.64544256e-03 -1.81843732e-...       1  \n",
       "1      [ 3.09337489e-02 -1.64544256e-03 -1.81843732e-...       1  \n",
       "2      [ 4.93665077e-02  5.20176487e-03 -2.68281382e-...       1  \n",
       "3      [ 4.93665077e-02  5.20176487e-03 -2.68281382e-...       1  \n",
       "4      [ 4.93665077e-02  5.20176487e-03 -2.68281382e-...       1  \n",
       "...                                                  ...     ...  \n",
       "40565  [-3.71134877e-02 -4.81231138e-03  4.98661846e-...       0  \n",
       "40566  [-3.71134877e-02 -4.81231138e-03  4.98661846e-...       0  \n",
       "40567  [ 2.10516788e-02 -3.68796773e-02 -5.24659716e-...       0  \n",
       "40568  [ 8.0978960e-02 -5.1263943e-02 -4.0368464e-02 ...       0  \n",
       "40569  [ 9.20976605e-03 -3.09015512e-02 -2.37296838e-...       0  \n",
       "\n",
       "[40570 rows x 4 columns]"
      ]
     },
     "execution_count": 6,
     "metadata": {},
     "output_type": "execute_result"
    }
   ],
   "source": [
    "x=data.get_train_data(jobs,candidates,data.status)"
   ]
  },
  {
   "cell_type": "code",
   "execution_count": null,
   "metadata": {},
   "outputs": [],
   "source": []
  }
 ],
 "metadata": {
  "kernelspec": {
   "display_name": "Python 3.10.5 64-bit",
   "language": "python",
   "name": "python3"
  },
  "language_info": {
   "codemirror_mode": {
    "name": "ipython",
    "version": 3
   },
   "file_extension": ".py",
   "mimetype": "text/x-python",
   "name": "python",
   "nbconvert_exporter": "python",
   "pygments_lexer": "ipython3",
   "version": "3.10.5"
  },
  "orig_nbformat": 4,
  "vscode": {
   "interpreter": {
    "hash": "42b432d30cc62254b91ead63fa829a83a2bcfd2e7275027632e6c65a5e1b6f06"
   }
  }
 },
 "nbformat": 4,
 "nbformat_minor": 2
}
